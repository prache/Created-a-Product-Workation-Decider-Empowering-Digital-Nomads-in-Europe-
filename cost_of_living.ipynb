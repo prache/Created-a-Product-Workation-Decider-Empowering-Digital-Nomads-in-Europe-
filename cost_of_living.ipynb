{
 "cells": [
  {
   "attachments": {},
   "cell_type": "markdown",
   "metadata": {},
   "source": [
    "##### Section 1.1.1 <a class=\"anchor\" id=\"sub_section_1_1_1\"></a>"
   ]
  },
  {
   "attachments": {},
   "cell_type": "markdown",
   "metadata": {},
   "source": [
    "## Table of Content\n",
    "* [Importing and cleaning the Data](#Importdata)\n",
    "    * [Global living costs](#Globallivingcosts) \n",
    "        * [Create a Data frame](#Createadataframe)\n",
    "        * [Handling missing values](#Handlingmissingvalues)\n",
    "        * [Data frame only for European 47 countries](#Dataframe_only_for_European_47_countries)\n",
    "        * [Tuple to list conversion](#Tupletolist)\n",
    "        * [Drop the columns](#dropcolumns)\n",
    "        * [Extract data frame to excel](#dftoexcel)\n",
    "        * [Filter the european countries](#countryfilter)\n",
    "    * [Global life expectancy](#globallifeexpectancy)\n",
    "    * [Global health expenditure](#globalhealthexpenditure)\n",
    "    * [GDP](#gdp)\n",
    "    * [Internet speed](#internetspeed)\n",
    "    * [Crime rate](#crimerate)\n",
    "    * [Happy planet index](#happyplanetindex)\n",
    "* [EDA](#eda)\n",
    "    * [Section 2.1](#section_2_1)\n",
    "        * [Sub Section 2.1.1](#sub_section_2_1_1)\n",
    "        * [Sub Section 2.1.2](#sub_section_2_1_2)\n",
    "    * [Section 2.2](#section_2_2)\n",
    "        * [Sub Section 2.2.1](#sub_section_2_2_1)\n",
    "        * [Sub Section 2.2.2](#sub_section_2_2_2)\n",
    "* [Chapter 3](#chapter3)\n",
    "    * [Section 3.1](#section_3_1)\n",
    "        * [Sub Section 3.1.1](#sub_section_3_1_1)\n",
    "        * [Sub Section 3.1.2](#sub_section_3_1_2)\n",
    "    * [Section 3.2](#section_3_2)\n",
    "        * [Sub Section 3.2.1](#sub_section_3_2_1)\n",
    "        * [Sub Section 3.2.2](#sub_section_3_2_2)"
   ]
  },
  {
   "attachments": {},
   "cell_type": "markdown",
   "metadata": {},
   "source": [
    "## Importing the Data <a class=\"anchor\" id=\"Importdata\"></a>"
   ]
  },
  {
   "attachments": {},
   "cell_type": "markdown",
   "metadata": {},
   "source": [
    "### Global living costs <a class=\"anchor\" id=\"Globallivingcosts\"></a>"
   ]
  },
  {
   "attachments": {},
   "cell_type": "markdown",
   "metadata": {},
   "source": [
    "##### Create a Data frame <a class=\"anchor\" id=\"Createadataframe\"></a>"
   ]
  },
  {
   "cell_type": "code",
   "execution_count": null,
   "metadata": {},
   "outputs": [],
   "source": [
    "import pandas as pd\n",
    "pd.read_csv\n",
    "# Set column names to 'carrier' and 'name' # It made th ecolumns\n",
    "global_living_costs_columns = ['city' , 'country', 'inexpensive_meal', 'mid_range_meal_for_two', 'mac_meal', 'domestic_beer_0.5', 'imported_beer_0.33', 'cappuccino_restaurants', \n",
    "                        'coke_0.33_restaurants', 'water_0.33_restaurants', 'milk_1_liter', 'loaf_fresh_white_bread_500g', 'white_rice_1kg', '12_eggs', 'local_cheese_1kg', \n",
    "                        'chicken_fillet_1kg', 'beef_1kg', 'apples_1kg', 'banana_1kg', 'oranges_1kg', 'tomato_1kg', 'potato_1kg', 'onion_1kg', 'lettuce_1_head', 'water_1.5ltr_market', \n",
    "                        'bottle_of_wine_market','domestic_beer_0.5ltr_market', 'imported_beer_0.33ltr_market', 'cigarettes_20packs_marlboro', 'one_way_ticket_local_transport', \n",
    "                        'monthly_pass', 'taxi_start', 'taxi_1km', 'taxi_1hr_waiting', 'gasoline_1ltr', 'car1_vw_golf', 'car2_toyota_corolla', 'apartment_extra_bills_85sqm', \n",
    "                        '1min__prepaid_call', 'internet', 'fitness_club_monthly', 'tennis_court_rent_1hr_weekend', 'cinema_1seat', 'kindergarten_full_day_private_monthly', \n",
    "                        'primary_school_yearly', 'one_jeans', 'one_summer_dress', 'nike_running_shoes_pair', 'leather_business_shoes_men', 'apartment_1_bed_city_center', \n",
    "                        'apartment_1_bed_outside_city_center', 'apartment_3_bed_city_center','apartment_3_bed_outside_city_center', 'price_per_sqm_buy_apartment_city_center',\n",
    "                        'price_per_sqm_buy_apartment_outside_city_center', 'avg_monthly_salary', 'mortgage_interest_rate_percent', 'data_quality']\n"
   ]
  },
  {
   "cell_type": "code",
   "execution_count": null,
   "metadata": {},
   "outputs": [],
   "source": [
    "global_living_costs = pd.read_csv('cost-of-living_v2.csv', delimiter=',')\n",
    "global_living_costs.head()"
   ]
  },
  {
   "cell_type": "code",
   "execution_count": null,
   "metadata": {},
   "outputs": [],
   "source": [
    "global_living_costs = global_living_costs.rename(columns= {\"x1\":'inexpensive_meal', \"x2\":'mid_range_meal_for_two', \"x3\":'mac_meal', \"x4\":'domestic_beer_0.5', \"x5\":'imported_beer_0.33', \"x6\":'cappuccino_restaurants', \n",
    "                        \"x7\":'coke_0.33_restaurants', \"x8\":'water_0.33_restaurants', \"x9\":'milk_1_liter', \"x10\":'loaf_fresh_white_bread_500g', \"x11\":'white_rice_1kg', \"x12\":'12_eggs', \n",
    "                        \"x13\":'local_cheese_1kg', \n",
    "                        \"x14\":'chicken_fillet_1kg', \"x15\":'beef_1kg', \"x16\":'apples_1kg', \"x17\":'banana_1kg', \"x18\":'oranges_1kg', \"x19\":'tomato_1kg', \"x20\":'potato_1kg', \n",
    "                        \"x21\":'onion_1kg', \"x22\":'lettuce_1_head', \"x23\":'water_1.5ltr_market', \n",
    "                        \"x24\":'bottle_of_wine_market', \"x25\":'domestic_beer_0.5ltr_market', \"x26\":'imported_beer_0.33ltr_market', \"x27\":'cigarettes_20packs_marlboro', \n",
    "                        \"x28\":'one_way_ticket_local_transport', \n",
    "                        \"x29\":'monthly_pass', \"x30\":'taxi_start', \"x31\":'taxi_1km', \"x32\":'taxi_1hr_waiting', \"x33\":'gasoline_1ltr', \"x34\":'car1_vw_golf', \"x35\":'car2_toyota_corolla', \n",
    "                        \"x36\":'apartment_extra_bills_85sqm', \n",
    "                        \"x37\":'1min__prepaid_call', \"x38\":'internet', \"x39\":'fitness_club_monthly', \"x40\":'tennis_court_rent_1hr_weekend', \"x41\":'cinema_1seat', \"x42\":'kindergarten_full_day_private_monthly', \n",
    "                        \"x43\":'primary_school_yearly', \"x44\":'one_jeans', \"x45\":'one_summer_dress', \"x46\":'nike_running_shoes_pair', \"x47\":'leather_business_shoes_men', \"x48\":'apartment_1_bed_city_center', \n",
    "                        \"x49\":'apartment_1_bed_outside_city_center', \"x50\":'apartment_3_bed_city_center', \"x51\":'apartment_3_bed_outside_city_center', \"x52\":'price_per_sqm_buy_apartment_city_center',\n",
    "                        \"x53\":'price_per_sqm_buy_apartment_outside_city_center', \"x54\":'avg_monthly_salary', \"x55\":'mortgage_interest_rate_percent'})"
   ]
  },
  {
   "attachments": {},
   "cell_type": "markdown",
   "metadata": {},
   "source": [
    "##### Handling missing values <a class=\"anchor\" id=\"Handling missing values\"></a>"
   ]
  },
  {
   "cell_type": "code",
   "execution_count": null,
   "metadata": {},
   "outputs": [],
   "source": [
    "global_living_costs.isnull().sum()"
   ]
  },
  {
   "attachments": {},
   "cell_type": "markdown",
   "metadata": {},
   "source": [
    "##### Data frame only for European 47 countries <a class=\"anchor\" id=\"Dataframe_only_for_European_47_countries\"></a>"
   ]
  },
  {
   "cell_type": "code",
   "execution_count": null,
   "metadata": {},
   "outputs": [],
   "source": [
    "list_european_countries = ('Albania',\n",
    "'Andorra',\n",
    "'Belgium',\n",
    "'Bosnia and Herzegovina',\n",
    "'Bulgaria',\n",
    "'Denmark',\n",
    "'Germany',\n",
    "'Estonia',\n",
    "'Finland',\n",
    "'France',\n",
    "'Greece',\n",
    "'Ireland',\n",
    "'Iceland',\n",
    "'Italy',\n",
    "'Kazakhstan',\n",
    "'Kosovo',\n",
    "'Croatia',\n",
    "'Latvia',\n",
    "'Liechtenstein',\n",
    "'Lithuania',\n",
    "'Luxembourg',\n",
    "'Malta',\n",
    "'Moldova',\n",
    "'Monaco',\n",
    "'Montenegro',\n",
    "'Netherlands',\n",
    "'North Macedonia',\n",
    "'Norway',\n",
    "'Austria',\n",
    "'Poland',\n",
    "'Portugal',\n",
    "'Romania',\n",
    "'Russia',\n",
    "'San Marino',\n",
    "'Sweden',\n",
    "'Switzerland',\n",
    "'Serbia',\n",
    "'Slovakia',\n",
    "'Slovenia',\n",
    "'Spain',\n",
    "'Czech Republic',\n",
    "'Turkey',\n",
    "'Ukraine',\n",
    "'Hungary',\n",
    "'Vatican',\n",
    "'United Kingdom',\n",
    "'Belarus')"
   ]
  },
  {
   "attachments": {},
   "cell_type": "markdown",
   "metadata": {},
   "source": [
    "##### Tuple to list conversion <a class=\"anchor\" id=\"tupletolist\"></a>"
   ]
  },
  {
   "cell_type": "code",
   "execution_count": null,
   "metadata": {},
   "outputs": [],
   "source": [
    "list_european_countries = list(list_european_countries)"
   ]
  },
  {
   "attachments": {},
   "cell_type": "markdown",
   "metadata": {},
   "source": [
    "##### Filter the European countries <a class=\"anchor\" id=\"countryfilter\"></a>"
   ]
  },
  {
   "cell_type": "code",
   "execution_count": null,
   "metadata": {},
   "outputs": [],
   "source": [
    "european_living_costs = global_living_costs.loc[global_living_costs[\"country\"].isin(list_european_countries)]"
   ]
  },
  {
   "attachments": {},
   "cell_type": "markdown",
   "metadata": {},
   "source": [
    "##### Drop the redundant columns <a class=\"anchor\" id=\"dropcolumns\"></a>"
   ]
  },
  {
   "cell_type": "code",
   "execution_count": null,
   "metadata": {},
   "outputs": [],
   "source": [
    "final_european_living_costs = european_living_costs.drop(['monthly_pass', 'tennis_court_rent_1hr_weekend', 'primary_school_yearly', 'apartment_1_bed_city_center', \n",
    "                                                                'apartment_1_bed_outside_city_center',\n",
    "                                                                'apartment_3_bed_city_center', 'apartment_3_bed_outside_city_center', 'price_per_sqm_buy_apartment_city_center', \n",
    "                                                                'price_per_sqm_buy_apartment_outside_city_center', 'mortgage_interest_rate_percent',\n",
    "                                                                'data_quality'], axis = 1) #inplace= true, may be needed\n"
   ]
  },
  {
   "cell_type": "code",
   "execution_count": null,
   "metadata": {},
   "outputs": [],
   "source": [
    "#final check on the dataframe, we have 1839 entries on 1503 rows and 47 columns with 47 countries\n",
    "final_european_living_costs.isnull().sum()"
   ]
  },
  {
   "cell_type": "code",
   "execution_count": null,
   "metadata": {},
   "outputs": [],
   "source": [
    "drop_these_cities = [\"Armavir\", \"Novomoskovsk\", \"Prokuplje\", \"Citta di Castello\", \"Fidenza\", \"Iglesias\", \"Novy Jicin\", \"Ivdel\", \"Lipari\", \"Voerendaal\", \"Bertinoro\", \"Serris\", \n",
    "                    \"Castrolibero\", \"Merida\", \"Bethune\", \"Crotone\", \"Saint-Louis\", \"Montceau-les-Mines\", \"Lanskroun\", \"Biasca\", \"Cortina d'Ampezzo\", \"Falconara Marittima\", \n",
    "                    \"Buochs\", \"Champigny-sur-Marne\", \"Newcastle\", \"Zlatoust\", \"Oranienburg\", \"Chita\", \"Kyzyl\", \"Maisons-Alfort\", \"Bilhorod-Dnistrovskyi\", \"Cholet\", \"Ainring\", \"Bilovec\", \n",
    "                    \"Puteaux\", \"Meaux\", \"Rodez\", \"Beziers\", \"Arsenyev\", \"Fastiv\", \"Capannori\", \"San Dona di Piave\", \"Zakopane\", \"Komlo\", \"Santa Margherita Ligure\", \"Lambersart\", \"Casandrino\",\n",
    "                     \"Godalming\", \"Geraardsbergen\", \"Bratsk\", \"Gravesend\", \"Cattolica\", \"Manfredonia\", \"Auxerre\", \"Sutton on Hull\", \"Kolomyia\", \"Bad Mergentheim\", \"Livadeia\", \"Podebrady\", \n",
    "                     \"Vocklabruck\", \"Alatyr\", \"Angarsk\", \"Rudnyy\", \"Montreuil\", \"Rayleigh\", \"Potenza\", \"Evry\", \"Montevrain\", \"Birsfelden\", \"Gummersbach\", \"Bucine\", \"Grays\", \"Cuprija\", \"Tuapse\", \n",
    "                     \"Niort\", \"Lousada\", \"Saint-Martin-de-Crau\", \"Bollnas\", \"Zweibrucken\", \"Segezha\", \"Komsomol'sk-na-Amure\", \"Abakan\", \"Kettering\", \"Chalon-sur-Saone\", \"Vigevano\", \"Bad Kreuznach\",\n",
    "                      \"Veldhoven\", \"Louvain-la-Neuve\", \"Friedrichsdorf\", \"Litvinov\", \"Annaberg-Buchholz\", \"Alcaudete\", \"Ciudad de Ceuta\", \"Gallarate\", \"Salgotarjan\", \"Leninsk-Kuznetskiy\", \"Pulawy\", \n",
    "                      \"Nadym\", \"Qapshaghay\", \"Cherbourg\", \"Rincon de la Victoria\", \"Harderwijk\", \"San Martino Buon Albergo\", \"Weymouth\", \"Neubiberg\", \"Gatchina\", \"Grosseto\", \"Sighetu Marmatiei\", \"Vittorio Veneto\", \"Montecatini Terme\", \"Lachen\", \"Odorheiu Secuiesc\", \"Kiskunfelegyhaza\", \"Kisvarda\", \"Myjava\", \"Aigle\", \"Sibenik\", \"Polva\", \"Wolfenbuttel\", \"Nysa\", \"Nizhnevartovsk\", \"Great Linford\", \"Fontaines-sur-Saone\", \"Ta' Xbiex\", \"Wesel\", \"Solnechnogorsk\", \"Geel\", \"Orekhovo-Borisovo Yuzhnoye\", \"Saint-Maur-des-Fosses\", \"Rho\", \"Poissy\", \"Alcala de Guadaira\", \"Canosa di Puglia\", \"Mnisek pod Brdy\", \"Hartlepool\", \"Kedainiai\", \"Sremski Karlovci\", \"Frydek-Mistek\", \"La Seyne-sur-Mer\", \"Cagnes-sur-Mer\", \"Douai\", \"Zebbug\", \"Civitavecchia\", \"Landsberg\", \"Koscierzyna\", \"Husum\", \"Elvas\", \"Lienz\", \"Vitry-sur-Seine\", \"Clichy\", \"Inowroclaw\", \"Chambery\", \"Kars\", \"Wloclawek\", \"Rudesheim am Rhein\", \"Thoiry\", \"Petropavl\", \"Courbevoic\", \"Spijkenisse\", \"Neuilly-sur-Seine\", \"Alexandria\", \"Neu-Ulm\", \"Slonim\", \"Samokov\", \"Mendrisio\", \"Seasalter\", \"Levanto\", \"Castellammare di Stabia\", \"Skofja Loka\", \"Jurbarkas\", \"Kocevje\", \"Sveti Nikole\", \"Kriva Palanka\", \"Raseiniai\", \"Saintes\", \"Gross-Umstadt\", \"Feltre\", \"Cesky Krumlov\", \"Antony\", \"Clamart\", \"Bastia\", \"Villefranche-sur-Saone\", \"Zagorje\", \"Crnomelj\", \"Esztergom\", \"Chios\", \"Bad Honnef am Rhein\", \"Ariano Irpino\", \"Gjovik\", \"Astrakhan\", \"Velikiy Novgorod\", \"Yevpatoriia\", \"Tamworth\", \"Ewell\", \"Cahul\", \"Nevsehir\", \"Pozzuoli\", \"Schio\", \"Crailsheim\", \"Maloyaroslavets\", \"Villacidro\", \"Manavgat\", \"Qyzylorda\", \"Cumbernauld\", \"Druskininkai\", \"Kirkwall\", \"Konin\", \"Affoltern am Albis\", \"Seferhisar\", \"Kerch\", \"Vrilissia\", \"Taraclia\", \"Gulbene\", \"Braine-l'Alleud\", \"Hamm\", \"Nefteyugansk\", \"Johvi\", \"Postojna\", \"Gelendzhik\", \"Kempten\", \"Antequera\", \"Dupnitsa\", \"Pfaffenhofen\", \"Wolfsberg\", \"Mytishchi\", \"Petropavlovsk-Kamchatskiy\", \"Serpukhov\", \"Nikopol\", \"Merthyr Tudful\", \"Macclesfield\", \"Barlad\", \"Saldus\", \"Talsi\", \"Madona\", \"Bedzin\", \"Chateauroux\", \"Ornskoldsvik\", \"Malacky\", \"Blagoveshchensk\", \"Sievierodonetsk\", \"Elbasan\", \"Hunedoara\", \"Smolyan\", \"Peshkopi\", \"Kavadarci\", \"Dunkerque\", \"Lisburn\", \"Bad Salzuflen\", \"Leonberg\", \"Marinha Grande\", \"Trebic\", \"Krotoszyn\", \"Stradella\", \"Treherbert\", \"Syktyvkar\", \"Hoofddorp\", \"Algeciras\", \"Murom\", \"Schwerin\", \"Lobnya\", \"Pazardzhik\", \"Lowestoft\", \"Vaslui\", \"Kirkcaldy\", \"Kajaani\", \"Plunge\", \"Escaldes-Engordany\", \"Steinkjer\", \"Sant Julia de Loria\", \"Zajecar\", \"Velikiye Luki\", \"Villingen-Schwenningen\", \"Penafiel\", \"Merignac\", \"Tournai\", \"Matera\", \"Offenburg\", \"Aldershot\", \"Herzogenrath\", \"Boleslawiec\", \"Ostuni\", \"Herzogenaurach\", \"Kilkis\", \"Meilen\", \"Ciechocinek\", \"Capriate San Gervasio\", \"Gorebridge\", \"Vladimir\", \"Krasnogorsk\", \"Dos Hermanas\", \"Besancon\", \"Bottrop\", \"Zhukovskiy\", \"Magadan\", \"Vidin\", \"Chichester\", \"Allschwil\", \"Ogre\", \"Wotton-under-Edge\", \"Diekirch\", \"Landshut\", \"Russelsheim\", \"Brasschaat\", \"Pinerolo\", \"Arlon\", \"Rambouillet\", \"Wangen im Allgau\", \"Cesenatico\", \"Csongrad\", \"Matosinhos\", \"Melitopol\", \"Nakhodka\", \"Novyy Urengoy\", \"Sesto San Giovanni\", \"Ajaccio\", \"Ponta Delgada\", \"Lytkarino\", \"Opfikon\", \"Acheres\", \"Yozgat\", \"Zejtun\", \"Rabat\", \"Wiltz\", \"Titel\", \"Leszno\", \"Tarnowskie Gory\", \"Viareggio\", \"Cerignola\", \"Kleve\", \"Sesimbra\", \"Borlange\", \"Bra\", \"Veendam\", \"Rovinj\", \"Taglio\", \"Drobak\"]\n",
    "final_european_living_costs = final_european_living_costs[~final_european_living_costs['city'].isin(drop_these_cities)]\n"
   ]
  },
  {
   "attachments": {},
   "cell_type": "markdown",
   "metadata": {},
   "source": [
    "##### Extract data frame to excel <a class=\"anchor\" id=\"dftoexcel\"></a>"
   ]
  },
  {
   "cell_type": "code",
   "execution_count": null,
   "metadata": {},
   "outputs": [],
   "source": [
    "final_european_living_costs.to_excel(\"final_european_living_costs.xlsx\", sheet_name='living_costs') "
   ]
  },
  {
   "cell_type": "code",
   "execution_count": 926,
   "metadata": {},
   "outputs": [],
   "source": [
    "import pandas as pd\n",
    "import sqlalchemy \n",
    "import psycopg2\n",
    "# Import get_engine from sql_functions.py. You will need to restart your kernel and rerun at this point since we changed the module since we first imported it.\n",
    "from sql_functions import get_engine \n",
    "# create a variable called engine using the get_engine function\n",
    "engine = get_engine()"
   ]
  },
  {
   "cell_type": "code",
   "execution_count": 927,
   "metadata": {},
   "outputs": [
    {
     "name": "stdout",
     "output_type": "stream",
     "text": [
      "The final_european_living_costs table was imported successfully.\n"
     ]
    }
   ],
   "source": [
    "# Specify which table within your database you want to push your data to. Give your table an unambiguous name.\n",
    "# Example: flights_sp for Sina's flights table, flights_groupname or similar\n",
    "table_1 = 'final_european_living_costs'\n",
    "schema = 'bestteamever'\n",
    "# If the specified table doesn't exist yet, it will be created\n",
    "# With 'replace', your data will be replaced if the table already exists.\n",
    "# This may take some time ...\n",
    "\n",
    "# Write records stored in a dataframe to SQL database\n",
    "if engine!=None:\n",
    "    try:\n",
    "        final_european_living_costs.to_sql(name=table_1, # Name of SQL table\n",
    "                        con=engine, # Engine or connection\n",
    "                        if_exists='replace', # Drop the table before inserting new values \n",
    "                        schema=schema, # Use schmea that was defined earlier\n",
    "                        index=False, # Write DataFrame index as a column\n",
    "                        chunksize=5000, # Specify the number of rows in each batch to be written at a time\n",
    "                        method='multi') # Pass multiple values in a single INSERT clause\n",
    "        print(f\"The {table_1} table was imported successfully.\")\n",
    "    # Error handling\n",
    "    except (Exception, psycopg2.DatabaseError) as error:\n",
    "        print(error)\n",
    "        engine = None"
   ]
  },
  {
   "attachments": {},
   "cell_type": "markdown",
   "metadata": {},
   "source": [
    "### Data on 'Are we working more than before?' <a class=\"anchor\" id=\"workingmorethanbefore\"></a>"
   ]
  },
  {
   "cell_type": "code",
   "execution_count": null,
   "metadata": {},
   "outputs": [],
   "source": [
    "import pandas as pd\n",
    "pd.read_csv\n",
    "global_working_spans = pd.read_csv('annual-working-hours-per-worker.csv', delimiter=',')\n",
    "global_working_spans.info()"
   ]
  },
  {
   "cell_type": "code",
   "execution_count": null,
   "metadata": {},
   "outputs": [],
   "source": [
    "#rename the column\n",
    "global_working_spans = global_working_spans.rename(columns={'Entity': \"country\", 'Year': \"year\", 'Average annual working hours per worker': \"avg working hrs per worker\"})"
   ]
  },
  {
   "cell_type": "code",
   "execution_count": null,
   "metadata": {},
   "outputs": [],
   "source": [
    "#drop the columns\n",
    "global_working_spans = global_working_spans.drop(['Code'], axis=1)"
   ]
  },
  {
   "cell_type": "code",
   "execution_count": null,
   "metadata": {},
   "outputs": [],
   "source": [
    "#match and access column 'country' from both the data frames, we have 31 countries matched\n",
    "european_working_spans = global_working_spans.loc[global_working_spans[\"country\"].isin(list_european_countries)]"
   ]
  },
  {
   "cell_type": "code",
   "execution_count": null,
   "metadata": {},
   "outputs": [],
   "source": [
    "#filter years to 2021-22, however we have latest 2017 \n",
    "european_working_spans[\"year\"].max()\n",
    "final_european_working_spans = european_working_spans.loc[european_working_spans['year'].isin({2017})]"
   ]
  },
  {
   "cell_type": "code",
   "execution_count": null,
   "metadata": {},
   "outputs": [],
   "source": [
    "#check on null values, good that we don't have any nulls in this data\n",
    "final_european_working_spans.isnull().sum()"
   ]
  },
  {
   "cell_type": "code",
   "execution_count": null,
   "metadata": {},
   "outputs": [],
   "source": [
    "final_european_working_spans.shape"
   ]
  },
  {
   "cell_type": "code",
   "execution_count": null,
   "metadata": {},
   "outputs": [],
   "source": [
    "#extract df to excel\n",
    "final_european_working_spans.to_excel(\"european_working_spans.xlsx\", sheet_name=\"are we working more\")"
   ]
  },
  {
   "attachments": {},
   "cell_type": "markdown",
   "metadata": {},
   "source": [
    "### Global life expectancy <a class=\"anchor\" id=\"globallifeexpectancy\"></a>"
   ]
  },
  {
   "cell_type": "code",
   "execution_count": null,
   "metadata": {},
   "outputs": [],
   "source": [
    "import pandas as pd\n",
    "pd.read_csv\n",
    "global_gle = pd.read_csv('global-life_expectancy.csv', delimiter=',')\n",
    "global_gle.head()"
   ]
  },
  {
   "cell_type": "code",
   "execution_count": null,
   "metadata": {},
   "outputs": [],
   "source": [
    "global_gle = global_gle.rename(columns= {\"Entity\":'country', \"Code\":'code', \"Year\":'year', \"Indicator:Life expectancy at birth (years) - Sex:Both sexes\":'life expectancy'})\n",
    "global_gle.head()"
   ]
  },
  {
   "cell_type": "code",
   "execution_count": null,
   "metadata": {},
   "outputs": [],
   "source": [
    "#global_gle[\"year\"].max()\n",
    "global_gle = global_gle.loc[global_gle['year'].isin({2019})]\n",
    "global_gle.head()\n",
    "global_gle.shape\n"
   ]
  },
  {
   "cell_type": "code",
   "execution_count": null,
   "metadata": {},
   "outputs": [],
   "source": [
    "final_european_gle = global_gle.loc[global_gle[\"country\"].isin(list_european_countries)]\n",
    "final_european_gle.head()"
   ]
  },
  {
   "cell_type": "code",
   "execution_count": null,
   "metadata": {},
   "outputs": [],
   "source": [
    "final_european_gle.isnull().sum()"
   ]
  },
  {
   "cell_type": "code",
   "execution_count": null,
   "metadata": {},
   "outputs": [],
   "source": [
    "final_european_gle.to_excel(excel_writer='european_life_expectancy.xlsx', sheet_name='final_european_gle')"
   ]
  },
  {
   "cell_type": "code",
   "execution_count": 928,
   "metadata": {},
   "outputs": [
    {
     "name": "stdout",
     "output_type": "stream",
     "text": [
      "The final_european_gle table was imported successfully.\n"
     ]
    }
   ],
   "source": [
    "# Specify which table within your database you want to push your data to. Give your table an unambiguous name.\n",
    "# Example: flights_sp for Sina's flights table, flights_groupname or similar\n",
    "table_2 = 'final_european_gle'\n",
    "schema = 'bestteamever'\n",
    "# If the specified table doesn't exist yet, it will be created\n",
    "# With 'replace', your data will be replaced if the table already exists.\n",
    "# This may take some time ...\n",
    "\n",
    "# Write records stored in a dataframe to SQL database\n",
    "if engine!=None:\n",
    "    try:\n",
    "        final_european_gle.to_sql(name=table_2, # Name of SQL table\n",
    "                        con=engine, # Engine or connection\n",
    "                        if_exists='replace', # Drop the table before inserting new values \n",
    "                        schema=schema, # Use schmea that was defined earlier\n",
    "                        index=False, # Write DataFrame index as a column\n",
    "                        chunksize=5000, # Specify the number of rows in each batch to be written at a time\n",
    "                        method='multi') # Pass multiple values in a single INSERT clause\n",
    "        print(f\"The {table_2} table was imported successfully.\")\n",
    "    # Error handling\n",
    "    except (Exception, psycopg2.DatabaseError) as error:\n",
    "        print(error)\n",
    "        engine = None"
   ]
  },
  {
   "attachments": {},
   "cell_type": "markdown",
   "metadata": {},
   "source": [
    "### Data on 'Global health expenditure' <a class=\"anchor\" id=\"globalhealthexpenditure\"></a>"
   ]
  },
  {
   "cell_type": "code",
   "execution_count": null,
   "metadata": {},
   "outputs": [],
   "source": [
    "import pandas as pd\n",
    "pd.read_csv\n",
    "global_health_expenditure = pd.read_csv('global-health-expenditure.csv', delimiter=',')\n",
    "global_health_expenditure.head()"
   ]
  },
  {
   "cell_type": "code",
   "execution_count": null,
   "metadata": {},
   "outputs": [],
   "source": [
    "global_health_expenditure = global_health_expenditure.rename(columns={\"Entity\":'country', \"Code\":'code', \"Year\":'year', \"Indicator:Current health expenditure (CHE) as percentage of gross domestic product (GDP) (%)\":'health_expenditure_percent_of_gdp'})\n",
    "global_health_expenditure.head(15)"
   ]
  },
  {
   "cell_type": "code",
   "execution_count": null,
   "metadata": {},
   "outputs": [],
   "source": [
    "#global_health_expenditure[\"year\"].max()\n",
    "global_health_expenditure = global_health_expenditure.loc[global_health_expenditure['year'].isin({2019})]"
   ]
  },
  {
   "cell_type": "code",
   "execution_count": null,
   "metadata": {},
   "outputs": [],
   "source": [
    "final_european_health_expenditure = global_health_expenditure.loc[global_health_expenditure['country'].isin(list_european_countries)] \n",
    "final_european_health_expenditure.shape"
   ]
  },
  {
   "cell_type": "code",
   "execution_count": null,
   "metadata": {},
   "outputs": [],
   "source": [
    "final_european_health_expenditure.isnull().sum()"
   ]
  },
  {
   "cell_type": "code",
   "execution_count": null,
   "metadata": {},
   "outputs": [],
   "source": [
    "final_european_health_expenditure.to_excel(excel_writer='european_health_expenditure.xlsx', sheet_name='health_expenditure')"
   ]
  },
  {
   "cell_type": "code",
   "execution_count": 929,
   "metadata": {},
   "outputs": [
    {
     "name": "stdout",
     "output_type": "stream",
     "text": [
      "The final_european_health_expenditure table was imported successfully.\n"
     ]
    }
   ],
   "source": [
    "# Specify which table within your database you want to push your data to. Give your table an unambiguous name.\n",
    "# Example: flights_sp for Sina's flights table, flights_groupname or similar\n",
    "table_3 = 'final_european_health_expenditure'\n",
    "schema = 'bestteamever'\n",
    "# If the specified table doesn't exist yet, it will be created\n",
    "# With 'replace', your data will be replaced if the table already exists.\n",
    "# This may take some time ...\n",
    "\n",
    "# Write records stored in a dataframe to SQL database\n",
    "if engine!=None:\n",
    "    try:\n",
    "        final_european_health_expenditure.to_sql(name=table_3, # Name of SQL table\n",
    "                        con=engine, # Engine or connection\n",
    "                        if_exists='replace', # Drop the table before inserting new values \n",
    "                        schema=schema, # Use schmea that was defined earlier\n",
    "                        index=False, # Write DataFrame index as a column\n",
    "                        chunksize=5000, # Specify the number of rows in each batch to be written at a time\n",
    "                        method='multi') # Pass multiple values in a single INSERT clause\n",
    "        print(f\"The {table_3} table was imported successfully.\")\n",
    "    # Error handling\n",
    "    except (Exception, psycopg2.DatabaseError) as error:\n",
    "        print(error)\n",
    "        engine = None"
   ]
  },
  {
   "attachments": {},
   "cell_type": "markdown",
   "metadata": {},
   "source": [
    "### Data on Child Mortality <a class=\"anchor\" id=\"childmortality\"></a>"
   ]
  },
  {
   "cell_type": "code",
   "execution_count": null,
   "metadata": {},
   "outputs": [],
   "source": [
    "import pandas as pd\n",
    "pd.read_csv\n",
    "child_mortality = pd.read_csv('child-mortality-igme.csv', delimiter=',')\n",
    "child_mortality.head()"
   ]
  },
  {
   "cell_type": "code",
   "execution_count": null,
   "metadata": {},
   "outputs": [],
   "source": [
    "child_mortality = child_mortality.rename(columns={\"Entity\":'country', \"Code\":'code', \"Year\":'year', \"Mortality rate, under-5 (per 1,000 live births)\":'mortality rate'})\n",
    "child_mortality.head()"
   ]
  },
  {
   "cell_type": "code",
   "execution_count": null,
   "metadata": {},
   "outputs": [],
   "source": [
    "#child_mortality[\"year\"].max()\n",
    "child_mortality = child_mortality.loc[child_mortality['year'].isin({2020})]\n",
    "child_mortality.shape"
   ]
  },
  {
   "cell_type": "code",
   "execution_count": null,
   "metadata": {},
   "outputs": [],
   "source": [
    "final_european_child_mortality = child_mortality.loc[child_mortality['country'].isin(list_european_countries)]\n",
    "final_european_child_mortality.shape"
   ]
  },
  {
   "cell_type": "code",
   "execution_count": null,
   "metadata": {},
   "outputs": [],
   "source": [
    "final_european_child_mortality.isnull().sum()"
   ]
  },
  {
   "cell_type": "code",
   "execution_count": null,
   "metadata": {},
   "outputs": [],
   "source": [
    "final_european_child_mortality.shape"
   ]
  },
  {
   "cell_type": "code",
   "execution_count": null,
   "metadata": {},
   "outputs": [],
   "source": [
    "final_european_child_mortality.to_excel(excel_writer=\"child_mortality.xlsx\", sheet_name='child_mortality')"
   ]
  },
  {
   "attachments": {},
   "cell_type": "markdown",
   "metadata": {},
   "source": [
    "### Data on GDP <a class=\"anchor\" id=\"gdp\"></a>"
   ]
  },
  {
   "cell_type": "code",
   "execution_count": null,
   "metadata": {},
   "outputs": [],
   "source": [
    "import pandas as pd\n",
    "pd.read_csv\n",
    "global_gdp = pd.read_csv('GDP.csv')\n",
    "global_gdp.head()"
   ]
  },
  {
   "cell_type": "code",
   "execution_count": null,
   "metadata": {},
   "outputs": [],
   "source": [
    "global_gdp['2022'].isnull().sum()\n",
    "#global_gdp['2022'].shape"
   ]
  },
  {
   "cell_type": "code",
   "execution_count": null,
   "metadata": {},
   "outputs": [],
   "source": [
    "global_gdp = global_gdp.drop(['Subject Descriptor','Units','Scale', 'Country/Series-specific Notes', 'Estimates Start After', 'Unnamed: 14', '2020', '2021', '2023', '2024', '2025', '2026', '2027'], axis=1)\n",
    "global_gdp.head()"
   ]
  },
  {
   "cell_type": "code",
   "execution_count": null,
   "metadata": {},
   "outputs": [],
   "source": [
    "global_gdp = global_gdp.rename(columns={\"Country\":'country'})"
   ]
  },
  {
   "cell_type": "code",
   "execution_count": null,
   "metadata": {},
   "outputs": [],
   "source": [
    "final_european_gdp = global_gdp.loc[global_gdp['country'].isin(list_european_countries)]\n",
    "#final_european_gdp.shape\n",
    "final_european_gdp.isnull().sum()"
   ]
  },
  {
   "cell_type": "code",
   "execution_count": null,
   "metadata": {},
   "outputs": [],
   "source": [
    "final_european_gdp.to_excel(excel_writer=\"GDP.xlsx\", sheet_name='GDP')"
   ]
  },
  {
   "cell_type": "code",
   "execution_count": 930,
   "metadata": {},
   "outputs": [
    {
     "name": "stdout",
     "output_type": "stream",
     "text": [
      "The final_european_gdp table was imported successfully.\n"
     ]
    }
   ],
   "source": [
    "# Specify which table within your database you want to push your data to. Give your table an unambiguous name.\n",
    "# Example: flights_sp for Sina's flights table, flights_groupname or similar\n",
    "table_4 = 'final_european_gdp'\n",
    "schema = 'bestteamever'\n",
    "# If the specified table doesn't exist yet, it will be created\n",
    "# With 'replace', your data will be replaced if the table already exists.\n",
    "# This may take some time ...\n",
    "\n",
    "# Write records stored in a dataframe to SQL database\n",
    "if engine!=None:\n",
    "    try:\n",
    "        final_european_gdp.to_sql(name=table_4, # Name of SQL table\n",
    "                        con=engine, # Engine or connection\n",
    "                        if_exists='replace', # Drop the table before inserting new values \n",
    "                        schema=schema, # Use schmea that was defined earlier\n",
    "                        index=False, # Write DataFrame index as a column\n",
    "                        chunksize=5000, # Specify the number of rows in each batch to be written at a time\n",
    "                        method='multi') # Pass multiple values in a single INSERT clause\n",
    "        print(f\"The {table_4} table was imported successfully.\")\n",
    "    # Error handling\n",
    "    except (Exception, psycopg2.DatabaseError) as error:\n",
    "        print(error)\n",
    "        engine = None"
   ]
  },
  {
   "attachments": {},
   "cell_type": "markdown",
   "metadata": {},
   "source": [
    "### Data on Internet speed <a class=\"anchor\" id=\"internetspeed\"></a>"
   ]
  },
  {
   "cell_type": "code",
   "execution_count": null,
   "metadata": {},
   "outputs": [],
   "source": [
    "import pandas as pd\n",
    "pd.read_csv\n",
    "global_internet_speed = pd.read_csv('Internet Speed 2022 2.csv')\n",
    "global_internet_speed.shape"
   ]
  },
  {
   "cell_type": "code",
   "execution_count": null,
   "metadata": {},
   "outputs": [],
   "source": [
    "global_internet_speed.columns = global_internet_speed.columns.str.lower()\n",
    "global_internet_speed = global_internet_speed.rename(columns={'broadband':'broadband_internet_speed', 'mobile':'mobile_internet_speed'})"
   ]
  },
  {
   "cell_type": "code",
   "execution_count": null,
   "metadata": {},
   "outputs": [],
   "source": [
    "global_internet_speed['broadband_internet_speed'] = global_internet_speed.broadband_internet_speed.apply(lambda x: x/8) # divide megabits into megabytes by factor 8"
   ]
  },
  {
   "cell_type": "code",
   "execution_count": null,
   "metadata": {},
   "outputs": [],
   "source": [
    "final_european_internet_speed = global_internet_speed.loc[global_internet_speed['country'].isin(list_european_countries)]"
   ]
  },
  {
   "cell_type": "code",
   "execution_count": null,
   "metadata": {},
   "outputs": [],
   "source": [
    "final_european_internet_speed.isnull().sum()"
   ]
  },
  {
   "cell_type": "code",
   "execution_count": null,
   "metadata": {},
   "outputs": [],
   "source": [
    "final_european_internet_speed.to_excel(excel_writer=\"internet_speed.xlsx\", sheet_name='internet speed')"
   ]
  },
  {
   "cell_type": "code",
   "execution_count": 931,
   "metadata": {},
   "outputs": [
    {
     "name": "stdout",
     "output_type": "stream",
     "text": [
      "The final_european_internet_speed table was imported successfully.\n"
     ]
    }
   ],
   "source": [
    "# Specify which table within your database you want to push your data to. Give your table an unambiguous name.\n",
    "# Example: flights_sp for Sina's flights table, flights_groupname or similar\n",
    "table_5 = 'final_european_internet_speed'\n",
    "schema = 'bestteamever'\n",
    "# If the specified table doesn't exist yet, it will be created\n",
    "# With 'replace', your data will be replaced if the table already exists.\n",
    "# This may take some time ...\n",
    "\n",
    "# Write records stored in a dataframe to SQL database\n",
    "if engine!=None:\n",
    "    try:\n",
    "        final_european_internet_speed.to_sql(name=table_5, # Name of SQL table\n",
    "                        con=engine, # Engine or connection\n",
    "                        if_exists='replace', # Drop the table before inserting new values \n",
    "                        schema=schema, # Use schmea that was defined earlier\n",
    "                        index=False, # Write DataFrame index as a column\n",
    "                        chunksize=5000, # Specify the number of rows in each batch to be written at a time\n",
    "                        method='multi') # Pass multiple values in a single INSERT clause\n",
    "        print(f\"The {table_5} table was imported successfully.\")\n",
    "    # Error handling\n",
    "    except (Exception, psycopg2.DatabaseError) as error:\n",
    "        print(error)\n",
    "        engine = None"
   ]
  },
  {
   "attachments": {},
   "cell_type": "markdown",
   "metadata": {},
   "source": [
    "### Data on crime rate <a class=\"anchor\" id=\"crimerate\"></a>"
   ]
  },
  {
   "cell_type": "code",
   "execution_count": null,
   "metadata": {},
   "outputs": [],
   "source": [
    "import pandas as pd\n",
    "pd.read_csv\n",
    "global_crime_index = pd.read_csv('World Crime Index .csv')\n",
    "global_crime_index.head()"
   ]
  },
  {
   "cell_type": "code",
   "execution_count": null,
   "metadata": {},
   "outputs": [],
   "source": [
    "global_crime_index = global_crime_index.drop(['Rank', 'Safety Index'], axis=1)\n",
    "global_crime_index = global_crime_index.rename(columns={\"City\":'city', \"Crime Index\":'crime index'})\n",
    "global_crime_index.head()"
   ]
  },
  {
   "cell_type": "code",
   "execution_count": null,
   "metadata": {},
   "outputs": [],
   "source": [
    "splitted_columns = global_crime_index['city'].str.split(pat=', ', n=1, expand=True) \n",
    "global_crime_index[\"city\"] = splitted_columns[0]\n",
    "global_crime_index[\"country\"] = splitted_columns[1]\n",
    "global_crime_index = global_crime_index[[\"country\", \"city\", \"crime index\"]]\n",
    "global_crime_index.shape\n",
    "#splitted_columns.head()"
   ]
  },
  {
   "cell_type": "code",
   "execution_count": null,
   "metadata": {},
   "outputs": [],
   "source": [
    "final_european_crime_index = global_crime_index.loc[global_crime_index['country'].isin(list_european_countries)]\n",
    "final_european_crime_index.shape"
   ]
  },
  {
   "cell_type": "code",
   "execution_count": null,
   "metadata": {},
   "outputs": [],
   "source": [
    "final_european_crime_index.to_excel(excel_writer=\"Crime index.xlsx\", sheet_name='crime index')"
   ]
  },
  {
   "cell_type": "code",
   "execution_count": 932,
   "metadata": {},
   "outputs": [
    {
     "name": "stdout",
     "output_type": "stream",
     "text": [
      "The final_european_crime_index table was imported successfully.\n"
     ]
    }
   ],
   "source": [
    "# Specify which table within your database you want to push your data to. Give your table an unambiguous name.\n",
    "# Example: flights_sp for Sina's flights table, flights_groupname or similar\n",
    "table_6 = 'final_european_crime_index'\n",
    "schema = 'bestteamever'\n",
    "# If the specified table doesn't exist yet, it will be created\n",
    "# With 'replace', your data will be replaced if the table already exists.\n",
    "# This may take some time ...\n",
    "\n",
    "# Write records stored in a dataframe to SQL database\n",
    "if engine!=None:\n",
    "    try:\n",
    "        final_european_crime_index.to_sql(name=table_6, # Name of SQL table\n",
    "                        con=engine, # Engine or connection\n",
    "                        if_exists='replace', # Drop the table before inserting new values \n",
    "                        schema=schema, # Use schmea that was defined earlier\n",
    "                        index=False, # Write DataFrame index as a column\n",
    "                        chunksize=5000, # Specify the number of rows in each batch to be written at a time\n",
    "                        method='multi') # Pass multiple values in a single INSERT clause\n",
    "        print(f\"The {table_6} table was imported successfully.\")\n",
    "    # Error handling\n",
    "    except (Exception, psycopg2.DatabaseError) as error:\n",
    "        print(error)\n",
    "        engine = None"
   ]
  },
  {
   "attachments": {},
   "cell_type": "markdown",
   "metadata": {},
   "source": [
    "### Happy planet index <a class=\"anchor\" id=\"happyplanetindex\"></a>"
   ]
  },
  {
   "cell_type": "code",
   "execution_count": 934,
   "metadata": {},
   "outputs": [
    {
     "data": {
      "text/html": [
       "<div>\n",
       "<style scoped>\n",
       "    .dataframe tbody tr th:only-of-type {\n",
       "        vertical-align: middle;\n",
       "    }\n",
       "\n",
       "    .dataframe tbody tr th {\n",
       "        vertical-align: top;\n",
       "    }\n",
       "\n",
       "    .dataframe thead th {\n",
       "        text-align: right;\n",
       "    }\n",
       "</style>\n",
       "<table border=\"1\" class=\"dataframe\">\n",
       "  <thead>\n",
       "    <tr style=\"text-align: right;\">\n",
       "      <th></th>\n",
       "      <th>hpi_rank</th>\n",
       "      <th>country</th>\n",
       "      <th>population_(thousands)</th>\n",
       "      <th>year</th>\n",
       "      <th>life_expectancy</th>\n",
       "      <th>ladder_of_life_(0-10)</th>\n",
       "      <th>footprint_(g_ha)</th>\n",
       "      <th>hpi_score</th>\n",
       "      <th>biocapacity_for_year_(g_ha)</th>\n",
       "      <th>gdp_per_capita_(us_dollar)</th>\n",
       "    </tr>\n",
       "  </thead>\n",
       "  <tbody>\n",
       "    <tr>\n",
       "      <th>0</th>\n",
       "      <td>36.0</td>\n",
       "      <td>Albania</td>\n",
       "      <td>2880.913</td>\n",
       "      <td>2019.0</td>\n",
       "      <td>78.6</td>\n",
       "      <td>4.995318</td>\n",
       "      <td>1.953726</td>\n",
       "      <td>51.033094</td>\n",
       "      <td>1.56</td>\n",
       "      <td>13724.058790</td>\n",
       "    </tr>\n",
       "    <tr>\n",
       "      <th>1</th>\n",
       "      <td>59.0</td>\n",
       "      <td>Austria</td>\n",
       "      <td>8955.108</td>\n",
       "      <td>2019.0</td>\n",
       "      <td>81.5</td>\n",
       "      <td>7.195361</td>\n",
       "      <td>6.054527</td>\n",
       "      <td>46.813029</td>\n",
       "      <td>1.56</td>\n",
       "      <td>56011.611222</td>\n",
       "    </tr>\n",
       "    <tr>\n",
       "      <th>2</th>\n",
       "      <td>89.0</td>\n",
       "      <td>Belarus</td>\n",
       "      <td>9452.409</td>\n",
       "      <td>2019.0</td>\n",
       "      <td>74.8</td>\n",
       "      <td>5.821453</td>\n",
       "      <td>4.110975</td>\n",
       "      <td>42.887810</td>\n",
       "      <td>1.56</td>\n",
       "      <td>19249.285476</td>\n",
       "    </tr>\n",
       "    <tr>\n",
       "      <th>3</th>\n",
       "      <td>92.0</td>\n",
       "      <td>Belgium</td>\n",
       "      <td>11539.326</td>\n",
       "      <td>2019.0</td>\n",
       "      <td>81.6</td>\n",
       "      <td>6.772138</td>\n",
       "      <td>6.694854</td>\n",
       "      <td>42.534972</td>\n",
       "      <td>1.56</td>\n",
       "      <td>51830.746466</td>\n",
       "    </tr>\n",
       "    <tr>\n",
       "      <th>4</th>\n",
       "      <td>54.0</td>\n",
       "      <td>Bosnia and Herzegovina</td>\n",
       "      <td>3300.998</td>\n",
       "      <td>2019.0</td>\n",
       "      <td>77.4</td>\n",
       "      <td>6.015522</td>\n",
       "      <td>3.648305</td>\n",
       "      <td>47.781039</td>\n",
       "      <td>1.56</td>\n",
       "      <td>14922.148512</td>\n",
       "    </tr>\n",
       "  </tbody>\n",
       "</table>\n",
       "</div>"
      ],
      "text/plain": [
       "   hpi_rank                 country  population_(thousands)    year  \\\n",
       "0      36.0                 Albania                2880.913  2019.0   \n",
       "1      59.0                 Austria                8955.108  2019.0   \n",
       "2      89.0                 Belarus                9452.409  2019.0   \n",
       "3      92.0                 Belgium               11539.326  2019.0   \n",
       "4      54.0  Bosnia and Herzegovina                3300.998  2019.0   \n",
       "\n",
       "   life_expectancy  ladder_of_life_(0-10)  footprint_(g_ha)  hpi_score  \\\n",
       "0             78.6               4.995318          1.953726  51.033094   \n",
       "1             81.5               7.195361          6.054527  46.813029   \n",
       "2             74.8               5.821453          4.110975  42.887810   \n",
       "3             81.6               6.772138          6.694854  42.534972   \n",
       "4             77.4               6.015522          3.648305  47.781039   \n",
       "\n",
       "   biocapacity_for_year_(g_ha)  gdp_per_capita_(us_dollar)  \n",
       "0                         1.56                13724.058790  \n",
       "1                         1.56                56011.611222  \n",
       "2                         1.56                19249.285476  \n",
       "3                         1.56                51830.746466  \n",
       "4                         1.56                14922.148512  "
      ]
     },
     "execution_count": 934,
     "metadata": {},
     "output_type": "execute_result"
    }
   ],
   "source": [
    "import pandas as pd\n",
    "pd.read_csv\n",
    "european_hpi_2019 = pd.read_csv('european_hpi_2019.csv')\n",
    "european_hpi_2019.head()"
   ]
  },
  {
   "cell_type": "code",
   "execution_count": 935,
   "metadata": {},
   "outputs": [
    {
     "data": {
      "text/html": [
       "<div>\n",
       "<style scoped>\n",
       "    .dataframe tbody tr th:only-of-type {\n",
       "        vertical-align: middle;\n",
       "    }\n",
       "\n",
       "    .dataframe tbody tr th {\n",
       "        vertical-align: top;\n",
       "    }\n",
       "\n",
       "    .dataframe thead th {\n",
       "        text-align: right;\n",
       "    }\n",
       "</style>\n",
       "<table border=\"1\" class=\"dataframe\">\n",
       "  <thead>\n",
       "    <tr style=\"text-align: right;\">\n",
       "      <th></th>\n",
       "      <th>hpi_rank</th>\n",
       "      <th>country</th>\n",
       "      <th>population_(thousands)</th>\n",
       "      <th>ladder_of_life_(0-10)</th>\n",
       "      <th>footprint_(g_ha)</th>\n",
       "      <th>hpi_score</th>\n",
       "      <th>gdp_per_capita_(us_dollar)</th>\n",
       "    </tr>\n",
       "  </thead>\n",
       "  <tbody>\n",
       "    <tr>\n",
       "      <th>0</th>\n",
       "      <td>36.0</td>\n",
       "      <td>Albania</td>\n",
       "      <td>2880.913</td>\n",
       "      <td>4.995318</td>\n",
       "      <td>1.953726</td>\n",
       "      <td>51.033094</td>\n",
       "      <td>13724.058790</td>\n",
       "    </tr>\n",
       "    <tr>\n",
       "      <th>1</th>\n",
       "      <td>59.0</td>\n",
       "      <td>Austria</td>\n",
       "      <td>8955.108</td>\n",
       "      <td>7.195361</td>\n",
       "      <td>6.054527</td>\n",
       "      <td>46.813029</td>\n",
       "      <td>56011.611222</td>\n",
       "    </tr>\n",
       "    <tr>\n",
       "      <th>2</th>\n",
       "      <td>89.0</td>\n",
       "      <td>Belarus</td>\n",
       "      <td>9452.409</td>\n",
       "      <td>5.821453</td>\n",
       "      <td>4.110975</td>\n",
       "      <td>42.887810</td>\n",
       "      <td>19249.285476</td>\n",
       "    </tr>\n",
       "    <tr>\n",
       "      <th>3</th>\n",
       "      <td>92.0</td>\n",
       "      <td>Belgium</td>\n",
       "      <td>11539.326</td>\n",
       "      <td>6.772138</td>\n",
       "      <td>6.694854</td>\n",
       "      <td>42.534972</td>\n",
       "      <td>51830.746466</td>\n",
       "    </tr>\n",
       "    <tr>\n",
       "      <th>4</th>\n",
       "      <td>54.0</td>\n",
       "      <td>Bosnia and Herzegovina</td>\n",
       "      <td>3300.998</td>\n",
       "      <td>6.015522</td>\n",
       "      <td>3.648305</td>\n",
       "      <td>47.781039</td>\n",
       "      <td>14922.148512</td>\n",
       "    </tr>\n",
       "  </tbody>\n",
       "</table>\n",
       "</div>"
      ],
      "text/plain": [
       "   hpi_rank                 country  population_(thousands)  \\\n",
       "0      36.0                 Albania                2880.913   \n",
       "1      59.0                 Austria                8955.108   \n",
       "2      89.0                 Belarus                9452.409   \n",
       "3      92.0                 Belgium               11539.326   \n",
       "4      54.0  Bosnia and Herzegovina                3300.998   \n",
       "\n",
       "   ladder_of_life_(0-10)  footprint_(g_ha)  hpi_score  \\\n",
       "0               4.995318          1.953726  51.033094   \n",
       "1               7.195361          6.054527  46.813029   \n",
       "2               5.821453          4.110975  42.887810   \n",
       "3               6.772138          6.694854  42.534972   \n",
       "4               6.015522          3.648305  47.781039   \n",
       "\n",
       "   gdp_per_capita_(us_dollar)  \n",
       "0                13724.058790  \n",
       "1                56011.611222  \n",
       "2                19249.285476  \n",
       "3                51830.746466  \n",
       "4                14922.148512  "
      ]
     },
     "execution_count": 935,
     "metadata": {},
     "output_type": "execute_result"
    }
   ],
   "source": [
    "european_hpi_2019 = european_hpi_2019.drop(['year', 'life_expectancy', 'biocapacity_for_year_(g_ha)'], axis=1)\n",
    "european_hpi_2019.head()"
   ]
  },
  {
   "cell_type": "code",
   "execution_count": 937,
   "metadata": {},
   "outputs": [
    {
     "data": {
      "text/html": [
       "<div>\n",
       "<style scoped>\n",
       "    .dataframe tbody tr th:only-of-type {\n",
       "        vertical-align: middle;\n",
       "    }\n",
       "\n",
       "    .dataframe tbody tr th {\n",
       "        vertical-align: top;\n",
       "    }\n",
       "\n",
       "    .dataframe thead th {\n",
       "        text-align: right;\n",
       "    }\n",
       "</style>\n",
       "<table border=\"1\" class=\"dataframe\">\n",
       "  <thead>\n",
       "    <tr style=\"text-align: right;\">\n",
       "      <th></th>\n",
       "      <th>hpi_rank</th>\n",
       "      <th>country</th>\n",
       "      <th>population_thousands</th>\n",
       "      <th>subjective_wellbeing_0-10</th>\n",
       "      <th>carbon_footprint_global_hectare</th>\n",
       "      <th>hpi_score</th>\n",
       "      <th>gdp_per_capita_us_dollar</th>\n",
       "    </tr>\n",
       "  </thead>\n",
       "  <tbody>\n",
       "    <tr>\n",
       "      <th>0</th>\n",
       "      <td>36.0</td>\n",
       "      <td>Albania</td>\n",
       "      <td>2880.913</td>\n",
       "      <td>4.995318</td>\n",
       "      <td>1.953726</td>\n",
       "      <td>51.033094</td>\n",
       "      <td>13724.058790</td>\n",
       "    </tr>\n",
       "    <tr>\n",
       "      <th>1</th>\n",
       "      <td>59.0</td>\n",
       "      <td>Austria</td>\n",
       "      <td>8955.108</td>\n",
       "      <td>7.195361</td>\n",
       "      <td>6.054527</td>\n",
       "      <td>46.813029</td>\n",
       "      <td>56011.611222</td>\n",
       "    </tr>\n",
       "    <tr>\n",
       "      <th>2</th>\n",
       "      <td>89.0</td>\n",
       "      <td>Belarus</td>\n",
       "      <td>9452.409</td>\n",
       "      <td>5.821453</td>\n",
       "      <td>4.110975</td>\n",
       "      <td>42.887810</td>\n",
       "      <td>19249.285476</td>\n",
       "    </tr>\n",
       "    <tr>\n",
       "      <th>3</th>\n",
       "      <td>92.0</td>\n",
       "      <td>Belgium</td>\n",
       "      <td>11539.326</td>\n",
       "      <td>6.772138</td>\n",
       "      <td>6.694854</td>\n",
       "      <td>42.534972</td>\n",
       "      <td>51830.746466</td>\n",
       "    </tr>\n",
       "    <tr>\n",
       "      <th>4</th>\n",
       "      <td>54.0</td>\n",
       "      <td>Bosnia and Herzegovina</td>\n",
       "      <td>3300.998</td>\n",
       "      <td>6.015522</td>\n",
       "      <td>3.648305</td>\n",
       "      <td>47.781039</td>\n",
       "      <td>14922.148512</td>\n",
       "    </tr>\n",
       "  </tbody>\n",
       "</table>\n",
       "</div>"
      ],
      "text/plain": [
       "   hpi_rank                 country  population_thousands  \\\n",
       "0      36.0                 Albania              2880.913   \n",
       "1      59.0                 Austria              8955.108   \n",
       "2      89.0                 Belarus              9452.409   \n",
       "3      92.0                 Belgium             11539.326   \n",
       "4      54.0  Bosnia and Herzegovina              3300.998   \n",
       "\n",
       "   subjective_wellbeing_0-10  carbon_footprint_global_hectare  hpi_score  \\\n",
       "0                   4.995318                         1.953726  51.033094   \n",
       "1                   7.195361                         6.054527  46.813029   \n",
       "2                   5.821453                         4.110975  42.887810   \n",
       "3                   6.772138                         6.694854  42.534972   \n",
       "4                   6.015522                         3.648305  47.781039   \n",
       "\n",
       "   gdp_per_capita_us_dollar  \n",
       "0              13724.058790  \n",
       "1              56011.611222  \n",
       "2              19249.285476  \n",
       "3              51830.746466  \n",
       "4              14922.148512  "
      ]
     },
     "execution_count": 937,
     "metadata": {},
     "output_type": "execute_result"
    }
   ],
   "source": [
    "final_european_hpi_2019 = european_hpi_2019.rename(columns={\"ladder_of_life_(0-10)\":'subjective_wellbeing_0-10',\"population_(thousands)\": 'population_thousands', \"footprint_(g_ha)\":'carbon_footprint_global_hectare', \"gdp_per_capita_(us_dollar)\":'gdp_per_capita_us_dollar'})\n",
    "final_european_hpi_2019.head()"
   ]
  },
  {
   "cell_type": "code",
   "execution_count": 938,
   "metadata": {},
   "outputs": [
    {
     "name": "stdout",
     "output_type": "stream",
     "text": [
      "The final_european_hpi_2019 table was imported successfully.\n"
     ]
    }
   ],
   "source": [
    "# Specify which table within your database you want to push your data to. Give your table an unambiguous name.\n",
    "# Example: flights_sp for Sina's flights table, flights_groupname or similar\n",
    "table_7 = 'final_european_hpi_2019'\n",
    "schema = 'bestteamever'\n",
    "# If the specified table doesn't exist yet, it will be created\n",
    "# With 'replace', your data will be replaced if the table already exists.\n",
    "# This may take some time ...\n",
    "\n",
    "# Write records stored in a dataframe to SQL database\n",
    "if engine!=None:\n",
    "    try:\n",
    "        final_european_hpi_2019.to_sql(name=table_7, # Name of SQL table\n",
    "                        con=engine, # Engine or connection\n",
    "                        if_exists='replace', # Drop the table before inserting new values \n",
    "                        schema=schema, # Use schmea that was defined earlier\n",
    "                        index=False, # Write DataFrame index as a column\n",
    "                        chunksize=5000, # Specify the number of rows in each batch to be written at a time\n",
    "                        method='multi') # Pass multiple values in a single INSERT clause\n",
    "        print(f\"The {table_7} table was imported successfully.\")\n",
    "    # Error handling\n",
    "    except (Exception, psycopg2.DatabaseError) as error:\n",
    "        print(error)\n",
    "        engine = None"
   ]
  }
 ],
 "metadata": {
  "kernelspec": {
   "display_name": "nf_sql",
   "language": "python",
   "name": "python3"
  },
  "language_info": {
   "codemirror_mode": {
    "name": "ipython",
    "version": 3
   },
   "file_extension": ".py",
   "mimetype": "text/x-python",
   "name": "python",
   "nbconvert_exporter": "python",
   "pygments_lexer": "ipython3",
   "version": "3.9.13"
  },
  "orig_nbformat": 4,
  "vscode": {
   "interpreter": {
    "hash": "a81d278bed5b5b59425dcb5a82ce505657686243c184b4a6b67e69d01c4d432e"
   }
  }
 },
 "nbformat": 4,
 "nbformat_minor": 2
}
