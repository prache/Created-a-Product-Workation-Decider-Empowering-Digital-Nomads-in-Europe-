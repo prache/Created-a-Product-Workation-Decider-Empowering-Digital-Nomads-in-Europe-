{
 "cells": [
  {
   "attachments": {},
   "cell_type": "markdown",
   "metadata": {},
   "source": [
    "#import the data and libraries"
   ]
  },
  {
   "cell_type": "code",
   "execution_count": null,
   "metadata": {},
   "outputs": [],
   "source": [
    "import pandas as pd\n",
    "pd.read_csv\n",
    "# Set column names to 'carrier' and 'name' # It made th ecolumns\n",
    "global_living_costs_columns = ['city' , 'country', 'inexpensive_meal', 'mid_range_meal_for_two', 'mac_meal', 'domestic_beer_0.5', 'imported_beer_0.33', 'cappuccino_restaurants', \n",
    "                        'coke_0.33_restaurants', 'water_0.33_restaurants', 'milk_1_liter', 'loaf_fresh_white_bread_500g', 'white_rice_1kg', '12_eggs', 'local_cheese_1kg', \n",
    "                        'chicken_fillet_1kg', 'beef_1kg', 'apples_1kg', 'banana_1kg', 'oranges_1kg', 'tomato_1kg', 'potato_1kg', 'onion_1kg', 'lettuce_1_head', 'water_1.5ltr_market', \n",
    "                        'bottle_of_wine_market','domestic_beer_0.5ltr_market', 'imported_beer_0.33ltr_market', 'cigarettes_20packs_marlboro', 'one_way_ticket_local_transport', \n",
    "                        'monthly_pass', 'taxi_start', 'taxi_1km', 'taxi_1hr_waiting', 'gasoline_1ltr', 'car1_vw_golf', 'car2_toyota_corolla', 'apartment_extra_bills_85sqm', \n",
    "                        '1min__prepaid_call', 'internet', 'fitness_club_monthly', 'tennis_court_rent_1hr_weekend', 'cinema_1seat', 'kindergarten_full_day_private_monthly', \n",
    "                        'primary_school_yearly', 'one_jeans', 'one_summer_dress', 'nike_running_shoes_pair', 'leather_business_shoes_men', 'apartment_1_bed_city_center', \n",
    "                        'apartment_1_bed_outside_city_center', 'apartment_3_bed_city_center','apartment_3_bed_outside_city_center', 'price_per_sqm_buy_apartment_city_center',\n",
    "                        'price_per_sqm_buy_apartment_outside_city_center', 'avg_monthly_salary', 'mortgage_interest_rate_percent', 'data_quality']\n"
   ]
  },
  {
   "attachments": {},
   "cell_type": "markdown",
   "metadata": {},
   "source": [
    "Create a dataframe for global data"
   ]
  },
  {
   "cell_type": "code",
   "execution_count": null,
   "metadata": {},
   "outputs": [],
   "source": [
    "global_living_costs = pd.read_csv('cost-of-living_v2.csv', delimiter=',')\n",
    "global_living_costs.head()"
   ]
  },
  {
   "cell_type": "code",
   "execution_count": null,
   "metadata": {},
   "outputs": [],
   "source": [
    "global_living_costs = global_living_costs.rename(columns= {\"x1\":'inexpensive_meal', \"x2\":'mid_range_meal_for_two', \"x3\":'mac_meal', \"x4\":'domestic_beer_0.5', \"x5\":'imported_beer_0.33', \"x6\":'cappuccino_restaurants', \n",
    "                        \"x7\":'coke_0.33_restaurants', \"x8\":'water_0.33_restaurants', \"x9\":'milk_1_liter', \"x10\":'loaf_fresh_white_bread_500g', \"x11\":'white_rice_1kg', \"x12\":'12_eggs', \n",
    "                        \"x13\":'local_cheese_1kg', \n",
    "                        \"x14\":'chicken_fillet_1kg', \"x15\":'beef_1kg', \"x16\":'apples_1kg', \"x17\":'banana_1kg', \"x18\":'oranges_1kg', \"x19\":'tomato_1kg', \"x20\":'potato_1kg', \n",
    "                        \"x21\":'onion_1kg', \"x22\":'lettuce_1_head', \"x23\":'water_1.5ltr_market', \n",
    "                        \"x24\":'bottle_of_wine_market', \"x25\":'domestic_beer_0.5ltr_market', \"x26\":'imported_beer_0.33ltr_market', \"x27\":'cigarettes_20packs_marlboro', \n",
    "                        \"x28\":'one_way_ticket_local_transport', \n",
    "                        \"x29\":'monthly_pass', \"x30\":'taxi_start', \"x31\":'taxi_1km', \"x32\":'taxi_1hr_waiting', \"x33\":'gasoline_1ltr', \"x34\":'car1_vw_golf', \"x35\":'car2_toyota_corolla', \n",
    "                        \"x36\":'apartment_extra_bills_85sqm', \n",
    "                        \"x37\":'1min__prepaid_call', \"x38\":'internet', \"x39\":'fitness_club_monthly', \"x40\":'tennis_court_rent_1hr_weekend', \"x41\":'cinema_1seat', \"x42\":'kindergarten_full_day_private_monthly', \n",
    "                        \"x43\":'primary_school_yearly', \"x44\":'one_jeans', \"x45\":'one_summer_dress', \"x46\":'nike_running_shoes_pair', \"x47\":'leather_business_shoes_men', \"x48\":'apartment_1_bed_city_center', \n",
    "                        \"x49\":'apartment_1_bed_outside_city_center', \"x50\":'apartment_3_bed_city_center', \"x51\":'apartment_3_bed_outside_city_center', \"x52\":'price_per_sqm_buy_apartment_city_center',\n",
    "                        \"x53\":'price_per_sqm_buy_apartment_outside_city_center', \"x54\":'avg_monthly_salary', \"x55\":'mortgage_interest_rate_percent'})"
   ]
  },
  {
   "attachments": {},
   "cell_type": "markdown",
   "metadata": {},
   "source": [
    "Check on null values"
   ]
  },
  {
   "cell_type": "code",
   "execution_count": null,
   "metadata": {},
   "outputs": [],
   "source": [
    "global_living_costs.isnull().sum()"
   ]
  },
  {
   "attachments": {},
   "cell_type": "markdown",
   "metadata": {},
   "source": [
    "Data frame only for European 47 countries \n"
   ]
  },
  {
   "cell_type": "code",
   "execution_count": null,
   "metadata": {},
   "outputs": [],
   "source": [
    "list_european_countries = ('Albania',\n",
    "'Andorra',\n",
    "'Belgium',\n",
    "'Bosnia and Herzegovina',\n",
    "'Bulgaria',\n",
    "'Denmark',\n",
    "'Germany',\n",
    "'Estonia',\n",
    "'Finland',\n",
    "'France',\n",
    "'Greece',\n",
    "'Ireland',\n",
    "'Iceland',\n",
    "'Italy',\n",
    "'Kazakhstan',\n",
    "'Kosovo',\n",
    "'Croatia',\n",
    "'Latvia',\n",
    "'Liechtenstein',\n",
    "'Lithuania',\n",
    "'Luxembourg',\n",
    "'Malta',\n",
    "'Moldova',\n",
    "'Monaco',\n",
    "'Montenegro',\n",
    "'Netherlands',\n",
    "'North Macedonia',\n",
    "'Norway',\n",
    "'Austria',\n",
    "'Poland',\n",
    "'Portugal',\n",
    "'Romania',\n",
    "'Russia',\n",
    "'San Marino',\n",
    "'Sweden',\n",
    "'Switzerland',\n",
    "'Serbia',\n",
    "'Slovakia',\n",
    "'Slovenia',\n",
    "'Spain',\n",
    "'Czech Republic',\n",
    "'Turkey',\n",
    "'Ukraine',\n",
    "'Hungary',\n",
    "'Vatican',\n",
    "'United Kingdom',\n",
    "'Belarus')"
   ]
  },
  {
   "cell_type": "code",
   "execution_count": null,
   "metadata": {},
   "outputs": [],
   "source": [
    "#convert tuple to list for list_european_countries\n",
    "\n",
    "list_european_countries = list(list_european_countries)"
   ]
  },
  {
   "cell_type": "code",
   "execution_count": null,
   "metadata": {},
   "outputs": [],
   "source": [
    "#match and access column 'country' from both the data frames\n",
    "european_living_costs = global_living_costs.loc[global_living_costs[\"country\"].isin(list_european_countries)]"
   ]
  },
  {
   "cell_type": "code",
   "execution_count": null,
   "metadata": {},
   "outputs": [],
   "source": [
    "#check on null values again\n",
    "european_living_costs.isnull().sum()"
   ]
  },
  {
   "cell_type": "code",
   "execution_count": null,
   "metadata": {},
   "outputs": [],
   "source": [
    "#dropping the redundant columns\n",
    "final_european_living_costs = european_living_costs.drop(['monthly_pass', 'tennis_court_rent_1hr_weekend', 'primary_school_yearly', 'apartment_1_bed_city_center', \n",
    "                                                                'apartment_1_bed_outside_city_center',\n",
    "                                                                'apartment_3_bed_city_center', 'apartment_3_bed_outside_city_center', 'price_per_sqm_buy_apartment_city_center', \n",
    "                                                                'price_per_sqm_buy_apartment_outside_city_center', 'mortgage_interest_rate_percent',\n",
    "                                                                'data_quality'], axis = 1) #inplace= true, may be needed\n"
   ]
  },
  {
   "cell_type": "code",
   "execution_count": null,
   "metadata": {},
   "outputs": [],
   "source": [
    "#final check on the dataframe, we have 1839 entries on 4950 rows and 47 columns with 47 countries\n",
    "final_european_living_costs.isnull().sum()"
   ]
  },
  {
   "cell_type": "code",
   "execution_count": null,
   "metadata": {},
   "outputs": [],
   "source": [
    "#extract df to excel\n",
    "final_european_living_costs.to_excel(\"final_european_living_costs.xlsx\", sheet_name='living_costs') "
   ]
  },
  {
   "attachments": {},
   "cell_type": "markdown",
   "metadata": {},
   "source": [
    "Data on 'Are we working more than ever?'"
   ]
  },
  {
   "cell_type": "code",
   "execution_count": null,
   "metadata": {},
   "outputs": [],
   "source": [
    "import pandas as pd\n",
    "pd.read_csv\n",
    "global_working_spans = pd.read_csv('annual-working-hours-per-worker.csv', delimiter=',')\n",
    "global_working_spans.info()"
   ]
  },
  {
   "cell_type": "code",
   "execution_count": null,
   "metadata": {},
   "outputs": [],
   "source": [
    "#rename the column\n",
    "global_working_spans = global_working_spans.rename(columns={'Entity': \"country\", 'Year': \"year\", 'Average annual working hours per worker': \"avg working hrs per worker\"})"
   ]
  },
  {
   "cell_type": "code",
   "execution_count": null,
   "metadata": {},
   "outputs": [],
   "source": [
    "#drop the columns\n",
    "global_working_spans = global_working_spans.drop(['Code'], axis=1)"
   ]
  },
  {
   "cell_type": "code",
   "execution_count": null,
   "metadata": {},
   "outputs": [],
   "source": [
    "#match and access column 'country' from both the data frames, we have 31 countries matched\n",
    "european_working_spans = global_working_spans.loc[global_working_spans[\"country\"].isin(list_european_countries)]"
   ]
  },
  {
   "cell_type": "code",
   "execution_count": null,
   "metadata": {},
   "outputs": [],
   "source": [
    "#filter years to 2021-22, however we have latest 2017 \n",
    "european_working_spans[\"year\"].max()\n",
    "final_european_working_spans = european_working_spans.loc[european_working_spans['year'].isin({2017})]"
   ]
  },
  {
   "cell_type": "code",
   "execution_count": null,
   "metadata": {},
   "outputs": [],
   "source": [
    "#check on null values, good that we don't have any nulls in this data\n",
    "final_european_working_spans.isnull().sum()"
   ]
  },
  {
   "cell_type": "code",
   "execution_count": null,
   "metadata": {},
   "outputs": [],
   "source": [
    "#extract df to excel\n",
    "final_european_working_spans.to_excel(\"european_working_spans.xlsx\", sheet_name=\"are we working more\")"
   ]
  },
  {
   "attachments": {},
   "cell_type": "markdown",
   "metadata": {},
   "source": [
    "Data on GDP "
   ]
  },
  {
   "cell_type": "code",
   "execution_count": 65,
   "metadata": {},
   "outputs": [
    {
     "data": {
      "text/html": [
       "<div>\n",
       "<style scoped>\n",
       "    .dataframe tbody tr th:only-of-type {\n",
       "        vertical-align: middle;\n",
       "    }\n",
       "\n",
       "    .dataframe tbody tr th {\n",
       "        vertical-align: top;\n",
       "    }\n",
       "\n",
       "    .dataframe thead th {\n",
       "        text-align: right;\n",
       "    }\n",
       "</style>\n",
       "<table border=\"1\" class=\"dataframe\">\n",
       "  <thead>\n",
       "    <tr style=\"text-align: right;\">\n",
       "      <th></th>\n",
       "      <th>Country</th>\n",
       "      <th>Subject Descriptor</th>\n",
       "      <th>Units</th>\n",
       "      <th>Scale</th>\n",
       "      <th>Country/Series-specific Notes</th>\n",
       "      <th>2020</th>\n",
       "      <th>2021</th>\n",
       "      <th>2022</th>\n",
       "      <th>2023</th>\n",
       "      <th>2024</th>\n",
       "      <th>2025</th>\n",
       "      <th>2026</th>\n",
       "      <th>2027</th>\n",
       "      <th>Estimates Start After</th>\n",
       "      <th>Unnamed: 14</th>\n",
       "    </tr>\n",
       "  </thead>\n",
       "  <tbody>\n",
       "    <tr>\n",
       "      <th>0</th>\n",
       "      <td>Afghanistan</td>\n",
       "      <td>Gross domestic product, current prices</td>\n",
       "      <td>U.S. dollars</td>\n",
       "      <td>Billions</td>\n",
       "      <td>See notes for:  Gross domestic product, curren...</td>\n",
       "      <td>20.136</td>\n",
       "      <td>NaN</td>\n",
       "      <td>NaN</td>\n",
       "      <td>NaN</td>\n",
       "      <td>NaN</td>\n",
       "      <td>NaN</td>\n",
       "      <td>NaN</td>\n",
       "      <td>NaN</td>\n",
       "      <td>2020.0</td>\n",
       "      <td>NaN</td>\n",
       "    </tr>\n",
       "    <tr>\n",
       "      <th>1</th>\n",
       "      <td>Albania</td>\n",
       "      <td>Gross domestic product, current prices</td>\n",
       "      <td>U.S. dollars</td>\n",
       "      <td>Billions</td>\n",
       "      <td>See notes for:  Gross domestic product, curren...</td>\n",
       "      <td>15.161</td>\n",
       "      <td>18.310</td>\n",
       "      <td>18.256</td>\n",
       "      <td>18.842</td>\n",
       "      <td>19.858</td>\n",
       "      <td>21.219</td>\n",
       "      <td>22.528</td>\n",
       "      <td>23.889</td>\n",
       "      <td>2020.0</td>\n",
       "      <td>NaN</td>\n",
       "    </tr>\n",
       "    <tr>\n",
       "      <th>2</th>\n",
       "      <td>Algeria</td>\n",
       "      <td>Gross domestic product, current prices</td>\n",
       "      <td>U.S. dollars</td>\n",
       "      <td>Billions</td>\n",
       "      <td>See notes for:  Gross domestic product, curren...</td>\n",
       "      <td>144.922</td>\n",
       "      <td>162.711</td>\n",
       "      <td>187.155</td>\n",
       "      <td>190.254</td>\n",
       "      <td>196.624</td>\n",
       "      <td>205.435</td>\n",
       "      <td>215.544</td>\n",
       "      <td>224.042</td>\n",
       "      <td>2021.0</td>\n",
       "      <td>NaN</td>\n",
       "    </tr>\n",
       "    <tr>\n",
       "      <th>3</th>\n",
       "      <td>Andorra</td>\n",
       "      <td>Gross domestic product, current prices</td>\n",
       "      <td>U.S. dollars</td>\n",
       "      <td>Billions</td>\n",
       "      <td>See notes for:  Gross domestic product, curren...</td>\n",
       "      <td>2.885</td>\n",
       "      <td>3.330</td>\n",
       "      <td>3.302</td>\n",
       "      <td>3.360</td>\n",
       "      <td>3.517</td>\n",
       "      <td>3.680</td>\n",
       "      <td>3.835</td>\n",
       "      <td>3.985</td>\n",
       "      <td>2021.0</td>\n",
       "      <td>NaN</td>\n",
       "    </tr>\n",
       "    <tr>\n",
       "      <th>4</th>\n",
       "      <td>Angola</td>\n",
       "      <td>Gross domestic product, current prices</td>\n",
       "      <td>U.S. dollars</td>\n",
       "      <td>Billions</td>\n",
       "      <td>See notes for:  Gross domestic product, curren...</td>\n",
       "      <td>58.125</td>\n",
       "      <td>75.179</td>\n",
       "      <td>124.794</td>\n",
       "      <td>135.558</td>\n",
       "      <td>142.198</td>\n",
       "      <td>149.076</td>\n",
       "      <td>156.463</td>\n",
       "      <td>164.414</td>\n",
       "      <td>2021.0</td>\n",
       "      <td>NaN</td>\n",
       "    </tr>\n",
       "  </tbody>\n",
       "</table>\n",
       "</div>"
      ],
      "text/plain": [
       "       Country                      Subject Descriptor         Units  \\\n",
       "0  Afghanistan  Gross domestic product, current prices  U.S. dollars   \n",
       "1      Albania  Gross domestic product, current prices  U.S. dollars   \n",
       "2      Algeria  Gross domestic product, current prices  U.S. dollars   \n",
       "3      Andorra  Gross domestic product, current prices  U.S. dollars   \n",
       "4       Angola  Gross domestic product, current prices  U.S. dollars   \n",
       "\n",
       "      Scale                      Country/Series-specific Notes     2020  \\\n",
       "0  Billions  See notes for:  Gross domestic product, curren...   20.136   \n",
       "1  Billions  See notes for:  Gross domestic product, curren...   15.161   \n",
       "2  Billions  See notes for:  Gross domestic product, curren...  144.922   \n",
       "3  Billions  See notes for:  Gross domestic product, curren...    2.885   \n",
       "4  Billions  See notes for:  Gross domestic product, curren...   58.125   \n",
       "\n",
       "      2021     2022     2023     2024     2025     2026     2027  \\\n",
       "0      NaN      NaN      NaN      NaN      NaN      NaN      NaN   \n",
       "1   18.310   18.256   18.842   19.858   21.219   22.528   23.889   \n",
       "2  162.711  187.155  190.254  196.624  205.435  215.544  224.042   \n",
       "3    3.330    3.302    3.360    3.517    3.680    3.835    3.985   \n",
       "4   75.179  124.794  135.558  142.198  149.076  156.463  164.414   \n",
       "\n",
       "   Estimates Start After  Unnamed: 14  \n",
       "0                 2020.0          NaN  \n",
       "1                 2020.0          NaN  \n",
       "2                 2021.0          NaN  \n",
       "3                 2021.0          NaN  \n",
       "4                 2021.0          NaN  "
      ]
     },
     "execution_count": 65,
     "metadata": {},
     "output_type": "execute_result"
    }
   ],
   "source": [
    "import pandas as pd\n",
    "pd.read_csv\n",
    "global_gdp = pd.read_csv('GDP.csv', delimiter=',')\n",
    "global_gdp.head()"
   ]
  },
  {
   "cell_type": "code",
   "execution_count": null,
   "metadata": {},
   "outputs": [],
   "source": [
    "# the columns names"
   ]
  }
 ],
 "metadata": {
  "kernelspec": {
   "display_name": "nf_sql",
   "language": "python",
   "name": "python3"
  },
  "language_info": {
   "codemirror_mode": {
    "name": "ipython",
    "version": 3
   },
   "file_extension": ".py",
   "mimetype": "text/x-python",
   "name": "python",
   "nbconvert_exporter": "python",
   "pygments_lexer": "ipython3",
   "version": "3.9.13 (main, Oct 13 2022, 16:12:19) \n[Clang 12.0.0 ]"
  },
  "orig_nbformat": 4,
  "vscode": {
   "interpreter": {
    "hash": "a81d278bed5b5b59425dcb5a82ce505657686243c184b4a6b67e69d01c4d432e"
   }
  }
 },
 "nbformat": 4,
 "nbformat_minor": 2
}
